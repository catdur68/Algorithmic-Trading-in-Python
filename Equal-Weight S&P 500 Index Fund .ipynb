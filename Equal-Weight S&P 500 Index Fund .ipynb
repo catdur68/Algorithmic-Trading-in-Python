{
 "cells": [
  {
   "cell_type": "markdown",
   "id": "852a388a",
   "metadata": {},
   "source": [
    "# Equal-Weight S&P 500 Index Fund"
   ]
  },
  {
   "cell_type": "markdown",
   "id": "5e841a1a",
   "metadata": {},
   "source": [
    "# Start of Project\n",
    "\"The goal of this section is to create a Python script that will accept the value of the user's portfolio and tell the user how many shares of each S&P 500 constituent the user should purchase to get an equal-weight version of the index fund.\" "
   ]
  },
  {
   "cell_type": "code",
   "execution_count": 1,
   "id": "902ab7a4",
   "metadata": {},
   "outputs": [],
   "source": [
    "#Import all the open source libraries \n",
    "import numpy as np\n",
    "import pandas as pd\n",
    "import requests\n",
    "import xlsxwriter\n",
    "import math"
   ]
  },
  {
   "cell_type": "markdown",
   "id": "938ab5af",
   "metadata": {},
   "source": [
    "Calling a csv file saved in this directory to have a list of the 500 symbols of companies comprising the S&P 500, and saving this file as a pandas dataframe "
   ]
  },
  {
   "cell_type": "code",
   "execution_count": 2,
   "id": "cb25e3e2",
   "metadata": {},
   "outputs": [
    {
     "data": {
      "text/plain": [
       "pandas.core.frame.DataFrame"
      ]
     },
     "execution_count": 2,
     "metadata": {},
     "output_type": "execute_result"
    }
   ],
   "source": [
    "stocks = pd.read_csv(\"sp_500_stocks.csv\")\n",
    "type(stocks)"
   ]
  },
  {
   "cell_type": "code",
   "execution_count": 3,
   "id": "d435e99f",
   "metadata": {},
   "outputs": [
    {
     "data": {
      "text/html": [
       "<div>\n",
       "<style scoped>\n",
       "    .dataframe tbody tr th:only-of-type {\n",
       "        vertical-align: middle;\n",
       "    }\n",
       "\n",
       "    .dataframe tbody tr th {\n",
       "        vertical-align: top;\n",
       "    }\n",
       "\n",
       "    .dataframe thead th {\n",
       "        text-align: right;\n",
       "    }\n",
       "</style>\n",
       "<table border=\"1\" class=\"dataframe\">\n",
       "  <thead>\n",
       "    <tr style=\"text-align: right;\">\n",
       "      <th></th>\n",
       "      <th>Ticker</th>\n",
       "    </tr>\n",
       "  </thead>\n",
       "  <tbody>\n",
       "    <tr>\n",
       "      <th>0</th>\n",
       "      <td>A</td>\n",
       "    </tr>\n",
       "    <tr>\n",
       "      <th>1</th>\n",
       "      <td>AAL</td>\n",
       "    </tr>\n",
       "    <tr>\n",
       "      <th>2</th>\n",
       "      <td>AAP</td>\n",
       "    </tr>\n",
       "    <tr>\n",
       "      <th>3</th>\n",
       "      <td>AAPL</td>\n",
       "    </tr>\n",
       "    <tr>\n",
       "      <th>4</th>\n",
       "      <td>ABBV</td>\n",
       "    </tr>\n",
       "    <tr>\n",
       "      <th>...</th>\n",
       "      <td>...</td>\n",
       "    </tr>\n",
       "    <tr>\n",
       "      <th>500</th>\n",
       "      <td>YUM</td>\n",
       "    </tr>\n",
       "    <tr>\n",
       "      <th>501</th>\n",
       "      <td>ZBH</td>\n",
       "    </tr>\n",
       "    <tr>\n",
       "      <th>502</th>\n",
       "      <td>ZBRA</td>\n",
       "    </tr>\n",
       "    <tr>\n",
       "      <th>503</th>\n",
       "      <td>ZION</td>\n",
       "    </tr>\n",
       "    <tr>\n",
       "      <th>504</th>\n",
       "      <td>ZTS</td>\n",
       "    </tr>\n",
       "  </tbody>\n",
       "</table>\n",
       "<p>505 rows × 1 columns</p>\n",
       "</div>"
      ],
      "text/plain": [
       "    Ticker\n",
       "0        A\n",
       "1      AAL\n",
       "2      AAP\n",
       "3     AAPL\n",
       "4     ABBV\n",
       "..     ...\n",
       "500    YUM\n",
       "501    ZBH\n",
       "502   ZBRA\n",
       "503   ZION\n",
       "504    ZTS\n",
       "\n",
       "[505 rows x 1 columns]"
      ]
     },
     "execution_count": 3,
     "metadata": {},
     "output_type": "execute_result"
    }
   ],
   "source": [
    "stocks"
   ]
  },
  {
   "cell_type": "markdown",
   "id": "d47123c3",
   "metadata": {},
   "source": [
    "Import API (sandbox) token from the https://iexcloud.io/console/ account (data provider). This token is normally secret and should not be pushed to Git. \n",
    "secrets.py"
   ]
  },
  {
   "cell_type": "code",
   "execution_count": 4,
   "id": "1bf71526",
   "metadata": {},
   "outputs": [],
   "source": [
    "from secrets import IEX_CLOUD_API_TOKEN"
   ]
  },
  {
   "cell_type": "markdown",
   "id": "d60667d9",
   "metadata": {},
   "source": [
    "Making our first API call to the IEX cloud. \n",
    "We are looking for these end points for each symbol in our panda dataframe:\n",
    "- market capitalization\n",
    "- stock price"
   ]
  },
  {
   "cell_type": "markdown",
   "id": "40f79f9e",
   "metadata": {},
   "source": [
    "Testing the call for one stock"
   ]
  },
  {
   "cell_type": "code",
   "execution_count": 5,
   "id": "f038d08e",
   "metadata": {},
   "outputs": [
    {
     "name": "stdout",
     "output_type": "stream",
     "text": [
      "https://sandbox.iexapis.com/stock/AAPL/quote/\n"
     ]
    }
   ],
   "source": [
    "# Test for 1 symbol (AAPL)\n",
    "symbol = \"AAPL\"\n",
    "# indicate the API's url - search for it on the API documentation (https://iexcloud.io/docs/api/)\n",
    "# the base API is https://cloud.iexapis.com/, but because we are using a sandbox (https://sandbox.iexapis.com)\n",
    "#api_url = \"https://sandbox.iexapis.com\" + endpoint \n",
    "# search for the ideal endpoint(s). Here the quote endpoint gives both the stock price and market cap\n",
    "#HTTP REQUEST : GET /stock/{symbol}/quote/{field}\n",
    "# add end point to the url: \"https://sandbox.iexapis.com/stock/{symbol}/quote/\"\n",
    "#make it an f string so that the placeholder is recognized\n",
    "api_url = f'https://sandbox.iexapis.com/stock/{symbol}/quote/'\n",
    "print(api_url)"
   ]
  },
  {
   "cell_type": "code",
   "execution_count": 6,
   "id": "4366f358",
   "metadata": {},
   "outputs": [
    {
     "name": "stdout",
     "output_type": "stream",
     "text": [
      "https://sandbox.iexapis.com/stock/AAPL/quote/?token=Tpk_f5a406208fe6498c881594c2cd1ba5b8\n"
     ]
    }
   ],
   "source": [
    "# Add secret API token\n",
    "api_url = f'https://sandbox.iexapis.com/stock/{symbol}/quote/?token={IEX_CLOUD_API_TOKEN}'\n",
    "print(api_url)"
   ]
  },
  {
   "cell_type": "markdown",
   "id": "22cc74da",
   "metadata": {},
   "source": [
    "Next: do a get request and store the data in a variable\n"
   ]
  },
  {
   "cell_type": "code",
   "execution_count": 7,
   "id": "ec5d3410",
   "metadata": {},
   "outputs": [
    {
     "data": {
      "text/plain": [
       "requests.models.Response"
      ]
     },
     "execution_count": 7,
     "metadata": {},
     "output_type": "execute_result"
    }
   ],
   "source": [
    "data = requests.get(api_url)\n",
    "type(data)"
   ]
  },
  {
   "cell_type": "code",
   "execution_count": 8,
   "id": "8b5e3491",
   "metadata": {},
   "outputs": [
    {
     "name": "stdout",
     "output_type": "stream",
     "text": [
      "404\n"
     ]
    }
   ],
   "source": [
    "print(data.status_code)"
   ]
  },
  {
   "cell_type": "markdown",
   "id": "a57bf35a",
   "metadata": {},
   "source": [
    "Code 404 is because we did not precise that we wanted to access the latest STABLE API version (versus the latest API version)"
   ]
  },
  {
   "cell_type": "code",
   "execution_count": 9,
   "id": "5b2c122f",
   "metadata": {},
   "outputs": [
    {
     "data": {
      "text/plain": [
       "requests.models.Response"
      ]
     },
     "execution_count": 9,
     "metadata": {},
     "output_type": "execute_result"
    }
   ],
   "source": [
    "#Adding /stable/ to the source address\n",
    "api_url = f'https://sandbox.iexapis.com/stable/stock/{symbol}/quote/?token={IEX_CLOUD_API_TOKEN}'\n",
    "data = requests.get(api_url)\n",
    "type(data)"
   ]
  },
  {
   "cell_type": "code",
   "execution_count": 10,
   "id": "e1096107",
   "metadata": {},
   "outputs": [
    {
     "name": "stdout",
     "output_type": "stream",
     "text": [
      "True\n"
     ]
    }
   ],
   "source": [
    "print(data.status_code == 200) #200 meaning the data came through"
   ]
  },
  {
   "cell_type": "markdown",
   "id": "32dc382d",
   "metadata": {},
   "source": []
  },
  {
   "cell_type": "code",
   "execution_count": 11,
   "id": "ea82adee",
   "metadata": {},
   "outputs": [
    {
     "name": "stdout",
     "output_type": "stream",
     "text": [
      "{'avgTotalVolume': 88317780, 'calculationPrice': 'close', 'change': -1.6, 'changePercent': -0.01066, 'close': 150.59, 'closeSource': 'ifcifola', 'closeTime': 1690521603022, 'companyName': 'Apple Inc', 'currency': 'USD', 'delayedPrice': 148.56, 'delayedPriceTime': 1636926413052, 'extendedChange': -0.35, 'extendedChangePercent': -0.00244, 'extendedPrice': 145.48, 'extendedPriceTime': 1634548507034, 'high': 150.87, 'highSource': 'e5d e  niaeyd1trlicemup', 'highTime': 1695956894095, 'iexAskPrice': 0, 'iexAskSize': 0, 'iexBidPrice': 0, 'iexBidSize': 0, 'iexClose': 148.47, 'iexCloseTime': 1664406878877, 'iexLastUpdated': 1704379774065, 'iexMarketPercent': 0.011733182987883688, 'iexOpen': 148.52, 'iexOpenTime': 1636812165075, 'iexRealtimePrice': 152.24, 'iexRealtimeSize': 1, 'iexVolume': 871058, 'lastTradeTime': 1680943185329, 'latestPrice': 150.49, 'latestSource': 'Close', 'latestTime': 'September 27, 2021', 'latestUpdate': 1694419072116, 'latestVolume': 74333611, 'low': 147.65, 'lowSource': 'ireuicey ep t5ea m1dndl', 'lowTime': 1709762942637, 'marketCap': 2477658375161, 'oddLotDelayedPrice': 150.73, 'oddLotDelayedPriceTime': 1668936565717, 'open': 150.87, 'openTime': 1662412173099, 'openSource': 'faclifoi', 'peRatio': 28.7, 'previousClose': 150.68, 'previousVolume': 55211203, 'primaryExchange': 'SQDNAA', 'symbol': 'AAPL', 'volume': 76412880, 'week52High': 164.16, 'week52Low': 109.18, 'ytdChange': 0.10298927002899838, 'isUSMarketOpen': False}\n"
     ]
    }
   ],
   "source": [
    "#Checking the data itself: turning that data into a json object using the json() method\n",
    "data = requests.get(api_url).json()\n",
    "print(data)"
   ]
  },
  {
   "cell_type": "markdown",
   "id": "65ba225e",
   "metadata": {},
   "source": [
    "We recognize a python dictionary. Now can parse the key/value pair we are interested in."
   ]
  },
  {
   "cell_type": "code",
   "execution_count": 12,
   "id": "688772bd",
   "metadata": {},
   "outputs": [
    {
     "data": {
      "text/plain": [
       "150.49"
      ]
     },
     "execution_count": 12,
     "metadata": {},
     "output_type": "execute_result"
    }
   ],
   "source": [
    "price = data['latestPrice']\n",
    "price"
   ]
  },
  {
   "cell_type": "code",
   "execution_count": 13,
   "id": "6070324d",
   "metadata": {},
   "outputs": [
    {
     "data": {
      "text/plain": [
       "2477658375161"
      ]
     },
     "execution_count": 13,
     "metadata": {},
     "output_type": "execute_result"
    }
   ],
   "source": [
    "market_cap = data['marketCap']\n",
    "market_cap"
   ]
  },
  {
   "cell_type": "code",
   "execution_count": 14,
   "id": "5efbbc46",
   "metadata": {},
   "outputs": [
    {
     "name": "stdout",
     "output_type": "stream",
     "text": [
      "2.477658375161\n"
     ]
    }
   ],
   "source": [
    "#make it readable :)\n",
    "print(market_cap/1000000000000)"
   ]
  },
  {
   "cell_type": "code",
   "execution_count": 15,
   "id": "29529920",
   "metadata": {},
   "outputs": [],
   "source": [
    "market_cap = market_cap/1000000000000"
   ]
  },
  {
   "cell_type": "markdown",
   "id": "108a5272",
   "metadata": {},
   "source": [
    "# Adding Our Stocks Data to a Pandas DataFrame\n",
    "The next thing we need to do is add our stock's price and market capitalization to a pandas DataFrame. \n",
    "We need to think about what we want that dataframe to look like and contend"
   ]
  },
  {
   "cell_type": "code",
   "execution_count": 16,
   "id": "3b98a082",
   "metadata": {},
   "outputs": [
    {
     "data": {
      "text/html": [
       "<div>\n",
       "<style scoped>\n",
       "    .dataframe tbody tr th:only-of-type {\n",
       "        vertical-align: middle;\n",
       "    }\n",
       "\n",
       "    .dataframe tbody tr th {\n",
       "        vertical-align: top;\n",
       "    }\n",
       "\n",
       "    .dataframe thead th {\n",
       "        text-align: right;\n",
       "    }\n",
       "</style>\n",
       "<table border=\"1\" class=\"dataframe\">\n",
       "  <thead>\n",
       "    <tr style=\"text-align: right;\">\n",
       "      <th></th>\n",
       "      <th>Ticker</th>\n",
       "      <th>Stock Price</th>\n",
       "      <th>Market Cap</th>\n",
       "      <th># of shares to buy</th>\n",
       "    </tr>\n",
       "  </thead>\n",
       "  <tbody>\n",
       "    <tr>\n",
       "      <th>0</th>\n",
       "      <td>0</td>\n",
       "      <td>0</td>\n",
       "      <td>0</td>\n",
       "      <td>0</td>\n",
       "    </tr>\n",
       "  </tbody>\n",
       "</table>\n",
       "</div>"
      ],
      "text/plain": [
       "   Ticker  Stock Price  Market Cap  # of shares to buy\n",
       "0       0            0           0                   0"
      ]
     },
     "execution_count": 16,
     "metadata": {},
     "output_type": "execute_result"
    }
   ],
   "source": [
    "my_columns = ['Ticker', 'Stock Price', 'Market Cap', '# of shares to buy'] #a simple python list\n",
    "#now use the panda DataFrame class initiation to initialize the dataframe\n",
    "#have a row with default values of 0 (list within a list)\n",
    "final_dataframe = pd.DataFrame([[0,0,0,0]],columns = my_columns)\n",
    "final_dataframe"
   ]
  },
  {
   "cell_type": "markdown",
   "id": "4784f8bb",
   "metadata": {},
   "source": [
    "now we need to append the values we obtain from our data"
   ]
  },
  {
   "cell_type": "code",
   "execution_count": 17,
   "id": "c6297ba8",
   "metadata": {},
   "outputs": [
    {
     "data": {
      "text/html": [
       "<div>\n",
       "<style scoped>\n",
       "    .dataframe tbody tr th:only-of-type {\n",
       "        vertical-align: middle;\n",
       "    }\n",
       "\n",
       "    .dataframe tbody tr th {\n",
       "        vertical-align: top;\n",
       "    }\n",
       "\n",
       "    .dataframe thead th {\n",
       "        text-align: right;\n",
       "    }\n",
       "</style>\n",
       "<table border=\"1\" class=\"dataframe\">\n",
       "  <thead>\n",
       "    <tr style=\"text-align: right;\">\n",
       "      <th></th>\n",
       "      <th>Ticker</th>\n",
       "      <th>Stock Price</th>\n",
       "      <th>Market Cap</th>\n",
       "      <th># of shares to buy</th>\n",
       "    </tr>\n",
       "  </thead>\n",
       "  <tbody>\n",
       "    <tr>\n",
       "      <th>0</th>\n",
       "      <td>0</td>\n",
       "      <td>0.00</td>\n",
       "      <td>0.000000</td>\n",
       "      <td>0</td>\n",
       "    </tr>\n",
       "    <tr>\n",
       "      <th>1</th>\n",
       "      <td>AAPL</td>\n",
       "      <td>150.49</td>\n",
       "      <td>2.477658</td>\n",
       "      <td>N/A</td>\n",
       "    </tr>\n",
       "  </tbody>\n",
       "</table>\n",
       "</div>"
      ],
      "text/plain": [
       "  Ticker  Stock Price  Market Cap # of shares to buy\n",
       "0      0         0.00    0.000000                  0\n",
       "1   AAPL       150.49    2.477658                N/A"
      ]
     },
     "execution_count": 17,
     "metadata": {},
     "output_type": "execute_result"
    }
   ],
   "source": [
    "#appending a panda series that lists the data in the dataframe. \n",
    "#In a panda dataframe every row and every column is a panda series. pd.series which takes a python list as argument\n",
    "final_dataframe.append(\n",
    "    pd.Series(\n",
    "        [\n",
    "            #python list\n",
    "            symbol,\n",
    "            price,\n",
    "            market_cap,\n",
    "            \"N/A\" # this at the moment is N/A (later calculations will be performed for # of shares to buy)\n",
    "        ],\n",
    "        index = my_columns  #tells the append method which column the data is added to      \n",
    "    ),\n",
    "    ignore_index = True # necessary when adding data to a panda dataframe\n",
    "\n",
    ")"
   ]
  },
  {
   "cell_type": "markdown",
   "id": "e64003b9",
   "metadata": {},
   "source": [
    "Now that we know that it works for 1 symbol, we can run the program for all the symbols.\n",
    "We will overwrite the existing dataframe, and start a new one using a loop through the csv file's ticker column."
   ]
  },
  {
   "cell_type": "code",
   "execution_count": 18,
   "id": "9a00be7b",
   "metadata": {},
   "outputs": [],
   "source": [
    "# Try the loop with the first 5 symbols\n",
    "final_dataframe = pd.DataFrame(columns = my_columns)\n",
    "for stock in stocks[\"Ticker\"][:5]:#for the first 5 stocks in the list\n",
    "    #print(stock)\n",
    "    #access the API, replace symbol placeholder with stock placeholder\n",
    "    api_url = f'https://sandbox.iexapis.com/stable/stock/{stock}/quote/?token={IEX_CLOUD_API_TOKEN}'\n",
    "    data = requests.get(api_url).json()\n",
    "    \n",
    "    final_dataframe = final_dataframe.append(\n",
    "        pd.Series(\n",
    "        [\n",
    "            stock,\n",
    "            data['latestPrice'],\n",
    "            data['marketCap']/1000000000000,\n",
    "            \"N/A\" \n",
    "        ],\n",
    "        index = my_columns  #tells the append method which column the data is added to      \n",
    "    ),\n",
    "    ignore_index = True # necessary when adding data to a panda dataframe\n",
    "    \n",
    "    )\n",
    "    \n",
    "    "
   ]
  },
  {
   "cell_type": "code",
   "execution_count": 19,
   "id": "b0c17720",
   "metadata": {},
   "outputs": [
    {
     "data": {
      "text/html": [
       "<div>\n",
       "<style scoped>\n",
       "    .dataframe tbody tr th:only-of-type {\n",
       "        vertical-align: middle;\n",
       "    }\n",
       "\n",
       "    .dataframe tbody tr th {\n",
       "        vertical-align: top;\n",
       "    }\n",
       "\n",
       "    .dataframe thead th {\n",
       "        text-align: right;\n",
       "    }\n",
       "</style>\n",
       "<table border=\"1\" class=\"dataframe\">\n",
       "  <thead>\n",
       "    <tr style=\"text-align: right;\">\n",
       "      <th></th>\n",
       "      <th>Ticker</th>\n",
       "      <th>Stock Price</th>\n",
       "      <th>Market Cap</th>\n",
       "      <th># of shares to buy</th>\n",
       "    </tr>\n",
       "  </thead>\n",
       "  <tbody>\n",
       "    <tr>\n",
       "      <th>0</th>\n",
       "      <td>A</td>\n",
       "      <td>172.60</td>\n",
       "      <td>0.050762</td>\n",
       "      <td>N/A</td>\n",
       "    </tr>\n",
       "    <tr>\n",
       "      <th>1</th>\n",
       "      <td>AAL</td>\n",
       "      <td>22.53</td>\n",
       "      <td>0.014076</td>\n",
       "      <td>N/A</td>\n",
       "    </tr>\n",
       "    <tr>\n",
       "      <th>2</th>\n",
       "      <td>AAP</td>\n",
       "      <td>222.90</td>\n",
       "      <td>0.014246</td>\n",
       "      <td>N/A</td>\n",
       "    </tr>\n",
       "    <tr>\n",
       "      <th>3</th>\n",
       "      <td>AAPL</td>\n",
       "      <td>152.00</td>\n",
       "      <td>2.410098</td>\n",
       "      <td>N/A</td>\n",
       "    </tr>\n",
       "    <tr>\n",
       "      <th>4</th>\n",
       "      <td>ABBV</td>\n",
       "      <td>110.21</td>\n",
       "      <td>0.195004</td>\n",
       "      <td>N/A</td>\n",
       "    </tr>\n",
       "  </tbody>\n",
       "</table>\n",
       "</div>"
      ],
      "text/plain": [
       "  Ticker  Stock Price  Market Cap # of shares to buy\n",
       "0      A       172.60    0.050762                N/A\n",
       "1    AAL        22.53    0.014076                N/A\n",
       "2    AAP       222.90    0.014246                N/A\n",
       "3   AAPL       152.00    2.410098                N/A\n",
       "4   ABBV       110.21    0.195004                N/A"
      ]
     },
     "execution_count": 19,
     "metadata": {},
     "output_type": "execute_result"
    }
   ],
   "source": [
    "final_dataframe"
   ]
  },
  {
   "cell_type": "markdown",
   "id": "299f22c4",
   "metadata": {},
   "source": [
    "Given that the ticker list is 500 long, best is to run this in batch (otherwise too long to run)\n",
    "and overwrite the empty dataframe with the results from the append method"
   ]
  },
  {
   "cell_type": "markdown",
   "id": "f8d70508",
   "metadata": {},
   "source": [
    "Nick McCallum's notes:\n",
    "\"Using Batch API Calls to Improve Performance\n",
    "Batch API calls are one of the easiest ways to improve the performance of your code.This is because HTTP requests are typically one of the slowest components of a script.Also, API providers will often give you discounted rates for using batch API calls since they are easier for the API provider to respond to.\n",
    "\n",
    "IEX Cloud limits their batch API calls to 100 tickers per request. Still, this reduces the number of API calls we'll make in this section from 500 to 5 - huge improvement! In this section, we'll split our list of stocks into groups of 100 and then make a batch API call for each group.\"\n"
   ]
  },
  {
   "cell_type": "code",
   "execution_count": 20,
   "id": "cc2f6ffd",
   "metadata": {},
   "outputs": [],
   "source": [
    "def chunks (lst, n):\n",
    "    for i in range(0, len(lst), n):\n",
    "        yield lst [i:i + n]\n",
    "        #yields successive n-sized chunks from list"
   ]
  },
  {
   "cell_type": "code",
   "execution_count": 21,
   "id": "1ca965d0",
   "metadata": {},
   "outputs": [
    {
     "data": {
      "text/html": [
       "<div>\n",
       "<style scoped>\n",
       "    .dataframe tbody tr th:only-of-type {\n",
       "        vertical-align: middle;\n",
       "    }\n",
       "\n",
       "    .dataframe tbody tr th {\n",
       "        vertical-align: top;\n",
       "    }\n",
       "\n",
       "    .dataframe thead th {\n",
       "        text-align: right;\n",
       "    }\n",
       "</style>\n",
       "<table border=\"1\" class=\"dataframe\">\n",
       "  <thead>\n",
       "    <tr style=\"text-align: right;\">\n",
       "      <th></th>\n",
       "      <th>Ticker</th>\n",
       "      <th>Stock Price</th>\n",
       "      <th>Market Cap</th>\n",
       "      <th># of shares to buy</th>\n",
       "    </tr>\n",
       "  </thead>\n",
       "  <tbody>\n",
       "    <tr>\n",
       "      <th>0</th>\n",
       "      <td>A</td>\n",
       "      <td>171.75</td>\n",
       "      <td>50683839369</td>\n",
       "      <td>N/A</td>\n",
       "    </tr>\n",
       "    <tr>\n",
       "      <th>1</th>\n",
       "      <td>AAL</td>\n",
       "      <td>22.18</td>\n",
       "      <td>14351556314</td>\n",
       "      <td>N/A</td>\n",
       "    </tr>\n",
       "    <tr>\n",
       "      <th>2</th>\n",
       "      <td>AAP</td>\n",
       "      <td>220.70</td>\n",
       "      <td>14292581103</td>\n",
       "      <td>N/A</td>\n",
       "    </tr>\n",
       "    <tr>\n",
       "      <th>3</th>\n",
       "      <td>AAPL</td>\n",
       "      <td>147.62</td>\n",
       "      <td>2496315609890</td>\n",
       "      <td>N/A</td>\n",
       "    </tr>\n",
       "    <tr>\n",
       "      <th>4</th>\n",
       "      <td>ABBV</td>\n",
       "      <td>109.68</td>\n",
       "      <td>196836548185</td>\n",
       "      <td>N/A</td>\n",
       "    </tr>\n",
       "    <tr>\n",
       "      <th>...</th>\n",
       "      <td>...</td>\n",
       "      <td>...</td>\n",
       "      <td>...</td>\n",
       "      <td>...</td>\n",
       "    </tr>\n",
       "    <tr>\n",
       "      <th>500</th>\n",
       "      <td>YUM</td>\n",
       "      <td>131.49</td>\n",
       "      <td>38083428422</td>\n",
       "      <td>N/A</td>\n",
       "    </tr>\n",
       "    <tr>\n",
       "      <th>501</th>\n",
       "      <td>ZBH</td>\n",
       "      <td>157.28</td>\n",
       "      <td>33204895304</td>\n",
       "      <td>N/A</td>\n",
       "    </tr>\n",
       "    <tr>\n",
       "      <th>502</th>\n",
       "      <td>ZBRA</td>\n",
       "      <td>574.68</td>\n",
       "      <td>29600088897</td>\n",
       "      <td>N/A</td>\n",
       "    </tr>\n",
       "    <tr>\n",
       "      <th>503</th>\n",
       "      <td>ZION</td>\n",
       "      <td>64.08</td>\n",
       "      <td>10534798712</td>\n",
       "      <td>N/A</td>\n",
       "    </tr>\n",
       "    <tr>\n",
       "      <th>504</th>\n",
       "      <td>ZTS</td>\n",
       "      <td>202.80</td>\n",
       "      <td>94659965117</td>\n",
       "      <td>N/A</td>\n",
       "    </tr>\n",
       "  </tbody>\n",
       "</table>\n",
       "<p>505 rows × 4 columns</p>\n",
       "</div>"
      ],
      "text/plain": [
       "    Ticker  Stock Price     Market Cap # of shares to buy\n",
       "0        A       171.75    50683839369                N/A\n",
       "1      AAL        22.18    14351556314                N/A\n",
       "2      AAP       220.70    14292581103                N/A\n",
       "3     AAPL       147.62  2496315609890                N/A\n",
       "4     ABBV       109.68   196836548185                N/A\n",
       "..     ...          ...            ...                ...\n",
       "500    YUM       131.49    38083428422                N/A\n",
       "501    ZBH       157.28    33204895304                N/A\n",
       "502   ZBRA       574.68    29600088897                N/A\n",
       "503   ZION        64.08    10534798712                N/A\n",
       "504    ZTS       202.80    94659965117                N/A\n",
       "\n",
       "[505 rows x 4 columns]"
      ]
     },
     "execution_count": 21,
     "metadata": {},
     "output_type": "execute_result"
    }
   ],
   "source": [
    "symbol_groups = list (chunks (stocks['Ticker'], 100)) #creates a list of list where the second list is no longer than 100\n",
    "symbol_strings = []\n",
    "for i in range (0, len(symbol_groups)):\n",
    "    #print(i)\n",
    "    #print(symbol_groups[i])\n",
    "    symbol_strings.append(','.join(symbol_groups[i]))\n",
    "    #print(symbol_strings[i])\n",
    "final_dataframe = pd.DataFrame(columns = my_columns)\n",
    "#final_dataframe   \n",
    "#for symbol_string in symbol_strings[:1]: --> test for first chunk\n",
    "for symbol_string in symbol_strings:\n",
    "    #print(symbol_string)\n",
    "    batch_api_call_url = f'https://sandbox.iexapis.com/stable/stock/market/batch?symbols={symbol_string},fb,tsla&types=quote&token={IEX_CLOUD_API_TOKEN}'\n",
    "    #print(batch_api_call_url)\n",
    "    #data = requests.get(batch_api_call_url)\n",
    "    #print(data.status_code)\n",
    "    data = requests.get(batch_api_call_url).json()\n",
    "    for symbol in symbol_string.split(','):\n",
    "        #print(symbol)\n",
    "        final_dataframe = final_dataframe.append(\n",
    "            pd.Series(\n",
    "            [\n",
    "                symbol,\n",
    "                data[symbol]['quote']['latestPrice'],\n",
    "                data[symbol]['quote']['marketCap'],\n",
    "                \"N/A\"\n",
    "            ],\n",
    "                index = my_columns\n",
    "            ),\n",
    "            ignore_index = True\n",
    "        )\n",
    "final_dataframe\n",
    "        "
   ]
  },
  {
   "cell_type": "markdown",
   "id": "07f157b3",
   "metadata": {},
   "source": [
    "# Calculating the Number of Shares to Buy\n",
    "with user input for the size of the portfolio (money available to buy shares)"
   ]
  },
  {
   "cell_type": "code",
   "execution_count": 22,
   "id": "d9094ebd",
   "metadata": {},
   "outputs": [
    {
     "name": "stdout",
     "output_type": "stream",
     "text": [
      "Enter the amount you have available to buy shares: 1000000\n"
     ]
    }
   ],
   "source": [
    "portfolio_size = input(\"Enter the amount you have available to buy shares: \")\n",
    "try:\n",
    "    val = float(portfolio_size)\n",
    "    #print(val)\n",
    "except ValueError:\n",
    "    print(\"That is not a number. Please enter a valid number (digits only)\")\n",
    "    portfolio_size = input(\"Enter the amount you have available to buy shares\")\n",
    "    val = float(portfolio_size)\n",
    "    "
   ]
  },
  {
   "cell_type": "code",
   "execution_count": 23,
   "id": "f34f230a",
   "metadata": {},
   "outputs": [
    {
     "data": {
      "text/plain": [
       "1980.1980198019803"
      ]
     },
     "execution_count": 23,
     "metadata": {},
     "output_type": "execute_result"
    }
   ],
   "source": [
    "#in this program we will allocate the portfolio size equally among all shares in the index\n",
    "position_size = val/len(final_dataframe.index)\n",
    "position_size"
   ]
  },
  {
   "cell_type": "markdown",
   "id": "02fac9c7",
   "metadata": {},
   "source": [
    "Here is the calculation to know the number of shares that can be bought for each stock"
   ]
  },
  {
   "cell_type": "code",
   "execution_count": 24,
   "id": "42d330e4",
   "metadata": {},
   "outputs": [],
   "source": [
    "#number_of_shares = position_size / stock price\n",
    "#constraint: fractional share purchase not allowed\n",
    "#testing for 1 stock\n",
    "\n",
    "#number_of_apple_shares = math.floor(position_size/500)\n",
    "#number_of_apple_shares"
   ]
  },
  {
   "cell_type": "code",
   "execution_count": 25,
   "id": "5bfd0c11",
   "metadata": {},
   "outputs": [
    {
     "data": {
      "text/html": [
       "<div>\n",
       "<style scoped>\n",
       "    .dataframe tbody tr th:only-of-type {\n",
       "        vertical-align: middle;\n",
       "    }\n",
       "\n",
       "    .dataframe tbody tr th {\n",
       "        vertical-align: top;\n",
       "    }\n",
       "\n",
       "    .dataframe thead th {\n",
       "        text-align: right;\n",
       "    }\n",
       "</style>\n",
       "<table border=\"1\" class=\"dataframe\">\n",
       "  <thead>\n",
       "    <tr style=\"text-align: right;\">\n",
       "      <th></th>\n",
       "      <th>Ticker</th>\n",
       "      <th>Stock Price</th>\n",
       "      <th>Market Cap</th>\n",
       "      <th># of shares to buy</th>\n",
       "    </tr>\n",
       "  </thead>\n",
       "  <tbody>\n",
       "    <tr>\n",
       "      <th>0</th>\n",
       "      <td>A</td>\n",
       "      <td>171.75</td>\n",
       "      <td>50683839369</td>\n",
       "      <td>11</td>\n",
       "    </tr>\n",
       "    <tr>\n",
       "      <th>1</th>\n",
       "      <td>AAL</td>\n",
       "      <td>22.18</td>\n",
       "      <td>14351556314</td>\n",
       "      <td>89</td>\n",
       "    </tr>\n",
       "    <tr>\n",
       "      <th>2</th>\n",
       "      <td>AAP</td>\n",
       "      <td>220.70</td>\n",
       "      <td>14292581103</td>\n",
       "      <td>8</td>\n",
       "    </tr>\n",
       "    <tr>\n",
       "      <th>3</th>\n",
       "      <td>AAPL</td>\n",
       "      <td>147.62</td>\n",
       "      <td>2496315609890</td>\n",
       "      <td>13</td>\n",
       "    </tr>\n",
       "    <tr>\n",
       "      <th>4</th>\n",
       "      <td>ABBV</td>\n",
       "      <td>109.68</td>\n",
       "      <td>196836548185</td>\n",
       "      <td>18</td>\n",
       "    </tr>\n",
       "    <tr>\n",
       "      <th>...</th>\n",
       "      <td>...</td>\n",
       "      <td>...</td>\n",
       "      <td>...</td>\n",
       "      <td>...</td>\n",
       "    </tr>\n",
       "    <tr>\n",
       "      <th>500</th>\n",
       "      <td>YUM</td>\n",
       "      <td>131.49</td>\n",
       "      <td>38083428422</td>\n",
       "      <td>15</td>\n",
       "    </tr>\n",
       "    <tr>\n",
       "      <th>501</th>\n",
       "      <td>ZBH</td>\n",
       "      <td>157.28</td>\n",
       "      <td>33204895304</td>\n",
       "      <td>12</td>\n",
       "    </tr>\n",
       "    <tr>\n",
       "      <th>502</th>\n",
       "      <td>ZBRA</td>\n",
       "      <td>574.68</td>\n",
       "      <td>29600088897</td>\n",
       "      <td>3</td>\n",
       "    </tr>\n",
       "    <tr>\n",
       "      <th>503</th>\n",
       "      <td>ZION</td>\n",
       "      <td>64.08</td>\n",
       "      <td>10534798712</td>\n",
       "      <td>30</td>\n",
       "    </tr>\n",
       "    <tr>\n",
       "      <th>504</th>\n",
       "      <td>ZTS</td>\n",
       "      <td>202.80</td>\n",
       "      <td>94659965117</td>\n",
       "      <td>9</td>\n",
       "    </tr>\n",
       "  </tbody>\n",
       "</table>\n",
       "<p>505 rows × 4 columns</p>\n",
       "</div>"
      ],
      "text/plain": [
       "    Ticker  Stock Price     Market Cap # of shares to buy\n",
       "0        A       171.75    50683839369                 11\n",
       "1      AAL        22.18    14351556314                 89\n",
       "2      AAP       220.70    14292581103                  8\n",
       "3     AAPL       147.62  2496315609890                 13\n",
       "4     ABBV       109.68   196836548185                 18\n",
       "..     ...          ...            ...                ...\n",
       "500    YUM       131.49    38083428422                 15\n",
       "501    ZBH       157.28    33204895304                 12\n",
       "502   ZBRA       574.68    29600088897                  3\n",
       "503   ZION        64.08    10534798712                 30\n",
       "504    ZTS       202.80    94659965117                  9\n",
       "\n",
       "[505 rows x 4 columns]"
      ]
     },
     "execution_count": 25,
     "metadata": {},
     "output_type": "execute_result"
    }
   ],
   "source": [
    "for i in range (0, len(final_dataframe.index)):\n",
    "    #print(i) --> 504 rows\n",
    "    #now we need to replace the N/A in the # of shares to buy with the calulated value\n",
    "    #First locate the column affected\n",
    "    final_dataframe.loc[i, '# of shares to buy'] = math.floor(position_size/final_dataframe.loc[i, 'Stock Price'])\n",
    "    \n",
    "    \n",
    "final_dataframe\n",
    "    \n"
   ]
  },
  {
   "cell_type": "markdown",
   "id": "2534ffae",
   "metadata": {},
   "source": [
    "# Formatting Our Excel Output\n",
    "Saving the panda dataframe in an Excel file.\n",
    "We will be using the XlsxWriter library for Python to create nicely-formatted Excel files."
   ]
  },
  {
   "cell_type": "markdown",
   "id": "f5000eb4",
   "metadata": {},
   "source": [
    "## Initializing our XlsxWriter Object"
   ]
  },
  {
   "cell_type": "code",
   "execution_count": 26,
   "id": "6622af6a",
   "metadata": {},
   "outputs": [],
   "source": [
    "# initializing the class xlswriter from the pd library\n",
    "writer = pd.ExcelWriter(\"recommanded trades.xlsx\", engine = \"xlsxwriter\")\n",
    "# next we need to pass our panda data frame and specify which tab of the excel file we want that to go\n",
    "# first thing we pass in is the writer object, then the excel tab, and last set an index = false argument\n",
    "final_dataframe.to_excel(writer, \"Recommended Trades\", index = False)"
   ]
  },
  {
   "cell_type": "markdown",
   "id": "8e790439",
   "metadata": {},
   "source": [
    "# Creating the Formats We'll Need For Our .xlsx File\n",
    "Formats include colors, fonts, and also symbols like % and $. We'll need four main formats for our Excel document:\n",
    "\n",
    "String format for tickers\n",
    "\\$XX.XX format for stock prices\n",
    "\\$XX,XXX format for market capitalization\n",
    "Integer format for the number of shares to purchase"
   ]
  },
  {
   "cell_type": "code",
   "execution_count": 27,
   "id": "6aff9126",
   "metadata": {},
   "outputs": [],
   "source": [
    "# creating 2 variables for the that specify the color scheme of the Excel file that we can reference later on\n",
    "background_color = \"#808080\"\n",
    "font_color = \"#ffffff\"\n",
    "\n",
    "string_format = writer.book.add_format(\n",
    "    {\n",
    "        'font_color': font_color,\n",
    "        'bg_color' : background_color,\n",
    "        'border' : 1\n",
    "    }\n",
    "\n",
    ")\n",
    "dollar_format = writer.book.add_format(\n",
    "    {\n",
    "        'num_format': '$0.00',\n",
    "        'font_color': font_color,\n",
    "        'bg_color' : background_color,\n",
    "        'border' : 1\n",
    "    }\n",
    "\n",
    ")\n",
    "integer_format = writer.book.add_format(\n",
    "    {\n",
    "        'num_format': '0',\n",
    "        'font_color': font_color,\n",
    "        'bg_color' : background_color,\n",
    "        'border' : 1\n",
    "    }\n",
    "\n",
    ")"
   ]
  },
  {
   "cell_type": "markdown",
   "id": "1bdc8fb4",
   "metadata": {},
   "source": [
    "# Applying the Formats to the Columns of Our .xlsx File\n",
    "We can use the set_column method applied to the writer.sheets['Recommended Trades'] object to apply formats to specific columns of our spreadsheets.\n",
    "\n",
    "Here's an example:\n",
    "\n",
    "writer.sheets['Recommended Trades'].set_column('B:B', #This tells the method to apply the format to column B\n",
    "                     18, #This tells the method to apply a column width of 18 pixels\n",
    "                     string_template #This applies the format 'string_template' to the column\n",
    "                    )"
   ]
  },
  {
   "cell_type": "code",
   "execution_count": 28,
   "id": "2ac5e41b",
   "metadata": {},
   "outputs": [],
   "source": [
    "#we test that for one column, and then incorporate in a loop so the program extends to all columns\n",
    "#writer.sheets['Recommended Trades'].set_column('A:A', 18, string_format)\n",
    "#since the first column will contain the ticker\n",
    "#we must save this\n",
    "#writer.save()\n",
    "\n",
    "#writer.sheets['Recommended Trades'].set_column('B:B', 18, string_format)\n",
    "#writer.sheets['Recommended Trades'].set_column('C:C', 18, string_format)\n",
    "#writer.sheets['Recommended Trades'].set_column('D:D', 18, string_format)\n",
    "#writer.save()\n",
    "\n",
    "#writer.sheets['Recommended Trades'].write('A1', 'Ticker', string_format)\n",
    "#writer.sheets['Recommended Trades'].write('B1', 'Stock Price', dollar_format)\n",
    "#writer.sheets['Recommended Trades'].write('C1', 'Market Cap', dollar_format)\n",
    "#writer.sheets['Recommended Trades'].write('D1', '# of shares to buy', integer_format)"
   ]
  },
  {
   "cell_type": "code",
   "execution_count": 29,
   "id": "a01a7521",
   "metadata": {},
   "outputs": [],
   "source": [
    "#this works but it violates the rule of don't repeat yourself.\n",
    "#we fix that by putting this code in 2 loops\n",
    "#we create a column format and make a dictionary\n",
    "column_formats = {\n",
    "    'A':['Ticker', string_format], # value for the key is a list\n",
    "    'B':['Stock Price', dollar_format],\n",
    "    'C':['Market Cap', dollar_format],\n",
    "    'D':['# of shares to buy', integer_format]\n",
    "}\n",
    "\n",
    "for column in column_formats.keys():\n",
    "    writer.sheets['Recommended Trades'].set_column(f'{column}:{column}', 18, column_formats[column][1])\n",
    "    writer.sheets['Recommended Trades'].write(f'{column}1', column_formats[column][0], column_formats[column][1])\n",
    "                                                   \n",
    "writer.save()"
   ]
  }
 ],
 "metadata": {
  "kernelspec": {
   "display_name": "Python 3 (ipykernel)",
   "language": "python",
   "name": "python3"
  },
  "language_info": {
   "codemirror_mode": {
    "name": "ipython",
    "version": 3
   },
   "file_extension": ".py",
   "mimetype": "text/x-python",
   "name": "python",
   "nbconvert_exporter": "python",
   "pygments_lexer": "ipython3",
   "version": "3.9.0"
  }
 },
 "nbformat": 4,
 "nbformat_minor": 5
}
